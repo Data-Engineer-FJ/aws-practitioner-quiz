{
 "cells": [
  {
   "cell_type": "code",
   "execution_count": 48,
   "id": "36e12db5-9c61-404f-b9eb-6dae9204b6f4",
   "metadata": {
    "scrolled": true
   },
   "outputs": [
    {
     "data": {
      "application/vnd.jupyter.widget-view+json": {
       "model_id": "e4bed2de88114e7e9d027224057bf883",
       "version_major": 2,
       "version_minor": 0
      },
      "text/plain": [
       "HTML(value=\"\\n<div style='\\n    width: 100%;\\n    max-width: 1200px;\\n    padding: 40px;\\n    border-radius: 2…"
      ]
     },
     "metadata": {},
     "output_type": "display_data"
    },
    {
     "data": {
      "application/vnd.jupyter.widget-view+json": {
       "model_id": "950d0203ee88409ba48bc785d7d94b8b",
       "version_major": 2,
       "version_minor": 0
      },
      "text/plain": [
       "IntProgress(value=0, bar_style='info', description='Progreso:', layout=Layout(margin='0 auto 30px auto', max_w…"
      ]
     },
     "metadata": {},
     "output_type": "display_data"
    },
    {
     "data": {
      "application/vnd.jupyter.widget-view+json": {
       "model_id": "dbe534380d104844b80907829c547877",
       "version_major": 2,
       "version_minor": 0
      },
      "text/plain": [
       "VBox(layout=Layout(margin='0 auto', max_width='1200px', width='100%'))"
      ]
     },
     "metadata": {},
     "output_type": "display_data"
    }
   ],
   "source": [
    "import pandas as pd\n",
    "import ipywidgets as widgets\n",
    "from IPython.display import display, clear_output\n",
    "\n",
    "# Cargar preguntas desde tu archivo Excel\n",
    "\n",
    "df_preguntas  = pd.read_excel(\"Plantilla_Cuestionario_AWS.xlsx\", sheet_name=\"Cuestionario\")\n",
    "\n",
    "preguntas = df_preguntas.to_dict(orient=\"records\")\n",
    "resultados = []\n",
    "\n",
    "# Encabezado tipo banner\n",
    "header_html = widgets.HTML(value=\"\"\"\n",
    "<div style='\n",
    "    width: 100%;\n",
    "    max-width: 1200px;\n",
    "    padding: 40px;\n",
    "    border-radius: 20px;\n",
    "    background: linear-gradient(90deg, #0066cc, #3399ff);\n",
    "    color: white;\n",
    "    margin: 30px auto 20px auto;\n",
    "    box-shadow: 0 8px 16px rgba(0,0,0,0.1);\n",
    "    text-align: center;\n",
    "'>\n",
    "    <h1 style='margin: 0; font-size: 32px;'>Simulacro AWS Cloud Practitioner</h1>\n",
    "    <p style='font-size: 18px; margin-top: 10px;'>Responde todas las preguntas y obtén tu puntaje final</p>\n",
    "</div>\n",
    "\"\"\")\n",
    "display(header_html)\n",
    "\n",
    "# Barra de progreso\n",
    "barra_progreso = widgets.IntProgress(\n",
    "    value=0,\n",
    "    min=0,\n",
    "    max=len(preguntas),\n",
    "    description='Progreso:',\n",
    "    bar_style='info',\n",
    "    orientation='horizontal',\n",
    "    layout=widgets.Layout(width='100%', max_width='1200px', margin='0 auto 30px auto')\n",
    ")\n",
    "display(barra_progreso)\n",
    "\n",
    "# Contenedor global para las preguntas\n",
    "contenedor_global = widgets.VBox(layout=widgets.Layout(width='100%', max_width='1200px', margin='0 auto'))\n",
    "display(contenedor_global)\n",
    "\n",
    "def mostrar_pregunta(i=0):\n",
    "    barra_progreso.value = i\n",
    "    contenedor_global.children = []\n",
    "\n",
    "    if i >= len(preguntas):\n",
    "        mostrar_resultado()\n",
    "        return\n",
    "\n",
    "    pregunta = preguntas[i]\n",
    "\n",
    "    estilo_card = f\"\"\"\n",
    "    <div style='\n",
    "        border: 1px solid #ddd;\n",
    "        border-radius: 12px;\n",
    "        padding: 24px;\n",
    "        background-color: #f9f9f9;\n",
    "        margin-bottom: 20px;\n",
    "        box-shadow: 0 2px 6px rgba(0,0,0,0.05);\n",
    "    '>\n",
    "        <h4 style='color:#222; margin: 0 0 10px;'>Pregunta {i+1}</h4>\n",
    "        <p style='font-size: 18px; margin: 0;'>{pregunta['Pregunta']}</p>\n",
    "    </div>\n",
    "    \"\"\"\n",
    "    enunciado = widgets.HTML(value=estilo_card)\n",
    "\n",
    "    opciones = [\n",
    "        pregunta[\"Alternativa A\"],\n",
    "        pregunta[\"Alternativa B\"],\n",
    "        pregunta[\"Alternativa C\"],\n",
    "        pregunta[\"Alternativa D\"]\n",
    "    ]\n",
    "\n",
    "    radio = widgets.RadioButtons(\n",
    "    options=opciones,\n",
    "    layout=widgets.Layout(width='auto'),\n",
    "    style={'description_width': '0px'}\n",
    ")\n",
    "\n",
    "    boton_responder = widgets.Button(description=\"Responder\", button_style='info')\n",
    "    salida = widgets.Output()\n",
    "\n",
    "    def al_hacer_click(b):\n",
    "        respuesta_usuario = radio.value\n",
    "        correcta = pregunta[\"Respuesta Correcta\"]\n",
    "        correcto = respuesta_usuario == correcta\n",
    "        resultados.append((pregunta[\"Pregunta\"], respuesta_usuario, correcta, correcto))\n",
    "\n",
    "        with salida:\n",
    "            clear_output()\n",
    "            if correcto:\n",
    "                print(\"✅ ¡Correcto!\")\n",
    "            else:\n",
    "                print(f\"❌ Incorrecto. La respuesta correcta es: {correcta}\")\n",
    "\n",
    "        boton_siguiente = widgets.Button(description=\"Siguiente\", button_style='success')\n",
    "        boton_siguiente.on_click(lambda x: mostrar_pregunta(i + 1))\n",
    "        fila_boton = widgets.HBox([boton_siguiente], layout=widgets.Layout(justify_content='flex-end'))\n",
    "        contenedor_global.children = [enunciado, radio, boton_responder, salida, fila_boton]\n",
    "\n",
    "    boton_responder.on_click(al_hacer_click)\n",
    "    contenedor_global.children = [enunciado, radio, boton_responder, salida]\n",
    "\n",
    "def mostrar_resultado():\n",
    "    clear_output()\n",
    "    total = len(resultados)\n",
    "    correctas = sum(1 for r in resultados if r[3])\n",
    "    porcentaje = int((correctas / total) * 100)\n",
    "\n",
    "    estilo = 'success' if porcentaje >= 70 else 'warning' if porcentaje >= 40 else 'danger'\n",
    "\n",
    "    resumen = widgets.HTML(value=f\"\"\"\n",
    "    <div style='\n",
    "        max-width: 800px;\n",
    "        margin: 40px auto;\n",
    "        padding: 30px;\n",
    "        border-radius: 15px;\n",
    "        background: #f1f1f1;\n",
    "        box-shadow: 0 4px 10px rgba(0,0,0,0.05);\n",
    "        text-align: center;\n",
    "    '>\n",
    "        <h2 style='margin-top: 0;'>🎯 Resultado Final</h2>\n",
    "        <p style='font-size: 20px;'>Respondiste <strong>{correctas}/{total}</strong> correctamente (<strong>{porcentaje}%</strong>)</p>\n",
    "    </div>\n",
    "    \"\"\")\n",
    "\n",
    "    barra_final = widgets.IntProgress(\n",
    "        value=porcentaje,\n",
    "        min=0,\n",
    "        max=100,\n",
    "        description='Tu Puntaje:',\n",
    "        bar_style=estilo,\n",
    "        orientation='horizontal',\n",
    "        layout=widgets.Layout(width='100%', max_width='800px', margin='0 auto 30px auto')\n",
    "    )\n",
    "\n",
    "    display(resumen, barra_final)\n",
    "\n",
    "    for idx, (preg, resp, corr, ok) in enumerate(resultados):\n",
    "        estado = \"✅\" if ok else \"❌\"\n",
    "        print(f\"{estado} {idx+1}. {preg}\\n   Tu respuesta: {resp}\\n   Correcta: {corr}\\n\")\n",
    "\n",
    "# Iniciar cuestionario\n",
    "mostrar_pregunta()\n"
   ]
  }
 ],
 "metadata": {
  "kernelspec": {
   "display_name": "Python 3 (ipykernel)",
   "language": "python",
   "name": "python3"
  },
  "language_info": {
   "codemirror_mode": {
    "name": "ipython",
    "version": 3
   },
   "file_extension": ".py",
   "mimetype": "text/x-python",
   "name": "python",
   "nbconvert_exporter": "python",
   "pygments_lexer": "ipython3",
   "version": "3.12.3"
  }
 },
 "nbformat": 4,
 "nbformat_minor": 5
}
